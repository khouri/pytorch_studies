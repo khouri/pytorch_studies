{
 "cells": [
  {
   "cell_type": "markdown",
   "id": "4c3b2e6b-b74f-40bc-88e4-8dddfb6acb26",
   "metadata": {},
   "source": [
    "### Python Regex"
   ]
  },
  {
   "cell_type": "code",
   "execution_count": 2,
   "id": "066cd8b9-f606-4a48-80b1-6a30bb5d31c7",
   "metadata": {},
   "outputs": [],
   "source": [
    "import re"
   ]
  },
  {
   "cell_type": "code",
   "execution_count": 3,
   "id": "5ce760db-1097-445b-b302-40fb20e44f27",
   "metadata": {},
   "outputs": [
    {
     "data": {
      "text/plain": [
       "['abc', 'abc', 'ABC']"
      ]
     },
     "execution_count": 3,
     "metadata": {},
     "output_type": "execute_result"
    }
   ],
   "source": [
    "re.findall(pattern = 'abc', string ='kasdfaiabcasdfaabcABC', flags = re.IGNORECASE)"
   ]
  },
  {
   "cell_type": "code",
   "execution_count": 4,
   "id": "61d749dd-5e3f-4ece-949b-86b4d65d306c",
   "metadata": {},
   "outputs": [
    {
     "name": "stdout",
     "output_type": "stream",
     "text": [
      "['1', '2', '3', '4', '6', '9']\n",
      "6\n"
     ]
    }
   ],
   "source": [
    "\n",
    "pattern = '[0-9]'\n",
    "string = '1234dgfgdf6gfgfg*()9'\n",
    "\n",
    "all_digits_lst = re.findall(pattern, string, flags = re.IGNORECASE)\n",
    "number_of_digits = len(all_digits_lst)\n",
    "print(all_digits_lst)\n",
    "print(number_of_digits)"
   ]
  },
  {
   "cell_type": "code",
   "execution_count": null,
   "id": "21a4bca4-c9cc-46b0-a74c-9d42d59f3c7c",
   "metadata": {},
   "outputs": [],
   "source": []
  },
  {
   "cell_type": "code",
   "execution_count": null,
   "id": "f8bb11f7-4445-4019-83c6-4b649f9d5ddd",
   "metadata": {},
   "outputs": [],
   "source": []
  },
  {
   "cell_type": "code",
   "execution_count": 5,
   "id": "8d1817e2-a02c-481c-ae3f-57359ea1b520",
   "metadata": {},
   "outputs": [
    {
     "name": "stdout",
     "output_type": "stream",
     "text": [
      "['1234', '5678']\n",
      "2\n"
     ]
    }
   ],
   "source": [
    "# 4 digitos consecutivos\n",
    "\n",
    "pattern = '[0-9][0-9][0-9][0-9]'\n",
    "string = '1234dgfgdf6gfgf5678g*()978'\n",
    "\n",
    "all_digits_lst = re.findall(pattern, string, flags = re.IGNORECASE)\n",
    "number_of_digits = len(all_digits_lst)\n",
    "print(all_digits_lst)\n",
    "print(number_of_digits)\n",
    "\n"
   ]
  },
  {
   "cell_type": "markdown",
   "id": "dc47a855-edef-4471-a6c1-07f3c29ce08a",
   "metadata": {},
   "source": [
    "[^as23] -> tudo que não seja isso\n",
    "[as23^] -> Exatamente isso"
   ]
  },
  {
   "cell_type": "code",
   "execution_count": 6,
   "id": "ed06d0d0-d1a0-4831-8783-8ca50109c917",
   "metadata": {},
   "outputs": [
    {
     "name": "stdout",
     "output_type": "stream",
     "text": [
      "['}', '{', '@', '#', '(', ')', '(', ')']\n",
      "8\n"
     ]
    }
   ],
   "source": [
    "\n",
    "pattern = '[^:{}()@#&]' #-> tudo menos isso\n",
    "pattern = '[:{}()@#&^]' #-> exatamente isso\n",
    "string = '123}4dg{fgdf6@gf#gf%()5678g*()978'\n",
    "\n",
    "all_digits_lst = re.findall(pattern, string, flags = re.IGNORECASE)\n",
    "number_of_digits = len(all_digits_lst)\n",
    "print(all_digits_lst)\n",
    "print(number_of_digits)\n",
    "\n"
   ]
  },
  {
   "cell_type": "code",
   "execution_count": 7,
   "id": "5d8ad383-1b5c-4806-a428-0263f41a0f64",
   "metadata": {},
   "outputs": [
    {
     "name": "stdout",
     "output_type": "stream",
     "text": [
      "asdkfjqoitlskdnfoqwiekhas;ioew=adgoie\n",
      "askdfl_asdkfei_asdjkfla****askeasfff\n"
     ]
    }
   ],
   "source": [
    "documents = ['asdfj;laieorkdjf;aliejr;akjdf23k4j;lajds;l',\n",
    "            'asdfjoqweitulad;ai@weutadg;lajoetiuaodkgjier',\n",
    "            'asdkfjqoitlskdnfoqwiekhas;ioew=adgoie',\n",
    "            'askdfl_asdkfei_asdjkfla****askeasfff',\n",
    "            '{{{{{asdfjowei@@##askdfoie}}}}}']\n",
    "regExp = '[^0-9:\"{}()@#&]'\n",
    "for doc in documents:\n",
    "    if len(re.findall(regExp,doc))==len(doc):\n",
    "        print(doc)"
   ]
  },
  {
   "cell_type": "code",
   "execution_count": null,
   "id": "6e0ec8db-1cf2-4a5c-bc19-96608009ce28",
   "metadata": {},
   "outputs": [],
   "source": []
  },
  {
   "cell_type": "code",
   "execution_count": 8,
   "id": "d8ea7792-9d6b-4125-ae2a-c52679aca947",
   "metadata": {},
   "outputs": [
    {
     "name": "stdout",
     "output_type": "stream",
     "text": [
      "2\n",
      "7\n",
      "9\n"
     ]
    }
   ],
   "source": [
    "doc = r'\\n for new [line, ] \\section and \\document and \\\\\\section \\n'\n",
    "regExp_brackets = '[\\[\\]]'\n",
    "brackets_count = len(re.findall(regExp_brackets,doc))\n",
    "print(brackets_count)\n",
    "regExp_slashes = '[\\\\\\]'\n",
    "slash_count = len(re.findall(regExp_slashes,doc))\n",
    "print(slash_count)\n",
    "print(brackets_count+slash_count)"
   ]
  },
  {
   "cell_type": "code",
   "execution_count": null,
   "id": "37dcebed-9ca7-439e-b840-4021cf3f9a5b",
   "metadata": {},
   "outputs": [],
   "source": []
  },
  {
   "cell_type": "code",
   "execution_count": 9,
   "id": "7acf8da4-7d81-4efa-8aa0-fbb8eebf6090",
   "metadata": {},
   "outputs": [
    {
     "name": "stdout",
     "output_type": "stream",
     "text": [
      "2\n"
     ]
    }
   ],
   "source": [
    "doc = r'\\n for new [line, ] \\section and \\document and \\\\\\section \\n'\n",
    "regExp = '[\\\\\\]section'\n",
    "print(len(re.findall(regExp,doc)))"
   ]
  },
  {
   "cell_type": "code",
   "execution_count": null,
   "id": "cb2421a3-7e73-440c-a706-57a7c0709aa0",
   "metadata": {},
   "outputs": [],
   "source": []
  },
  {
   "cell_type": "code",
   "execution_count": 10,
   "id": "497d0135-a7eb-4ae9-adae-d7fb72be2c5c",
   "metadata": {},
   "outputs": [
    {
     "name": "stdout",
     "output_type": "stream",
     "text": [
      "['2', '4', '2', '3', '4', ' ', ' ', ' ', ' ', ' ', ' ', '_', '_']\n",
      "13\n"
     ]
    }
   ],
   "source": [
    "doc = ('asdfj;laieo2rkdjf;ali4ejr;akjdf23k4j;lajds;l'\n",
    "            'asdfjoqweitu  lad;ai@weuta    dg;lajoetiuaodkgjier'\n",
    "            'asdkfjqoitlskdnfoqwiekhas;ioew=adgoie'\n",
    "            'askdfl_asdkfei_asdjkfla****askeasfff'\n",
    "            '{{{{{asdfjowei@@##askdfoie}}}}}')\n",
    "regExp = '[\\s\\d_]'\n",
    "rs = re.findall(regExp,doc)\n",
    "print(rs)\n",
    "print(len(rs))"
   ]
  },
  {
   "cell_type": "code",
   "execution_count": null,
   "id": "1198043a-f0ac-4fdc-bec4-496d8fba8b99",
   "metadata": {},
   "outputs": [],
   "source": []
  },
  {
   "cell_type": "code",
   "execution_count": null,
   "id": "0c655365-7183-4d66-9f8d-a3505bff98ab",
   "metadata": {},
   "outputs": [],
   "source": []
  },
  {
   "cell_type": "code",
   "execution_count": null,
   "id": "c252f76b-498f-4208-924f-32675eb65a32",
   "metadata": {},
   "outputs": [],
   "source": [
    "doc = 'YahooYahoooYahoooooooYahoooooYahoasdfl;akj;lYahoaYahaoo'\n",
    "regExp = 'Yahooo*'\n",
    "rs = re.findall(regExp,doc)\n",
    "print(rs)"
   ]
  },
  {
   "cell_type": "code",
   "execution_count": null,
   "id": "7c3d1348-9aff-440a-876e-6024ede84bab",
   "metadata": {},
   "outputs": [],
   "source": []
  },
  {
   "cell_type": "code",
   "execution_count": null,
   "id": "838d71f6-fadb-4b5c-82ef-7c29e48956e9",
   "metadata": {},
   "outputs": [],
   "source": [
    "doc = ('asdfj;35laieo2rkdjf;ali4ejr;akjdf23k4j;lajds;l'\n",
    "            'asdfjoqweitu  lad;ai@weuta    dg;lajoetiuaodkgjier'\n",
    "            'asdkfjqoitlskdnfoqwiekhas;ioew=adgoie'\n",
    "            'askdfl_asdkfei_asdjkfla****askeasfff'\n",
    "            '{{{{{asdfjowei@@##askdfoie}}}}}')\n",
    "regExp = '[a-zA-Z_]\\w*'\n",
    "rs = re.findall(regExp,doc)\n",
    "print(rs)"
   ]
  },
  {
   "cell_type": "code",
   "execution_count": null,
   "id": "7ee50f88-b6d4-47a6-9b84-05d4481370c7",
   "metadata": {},
   "outputs": [],
   "source": []
  },
  {
   "cell_type": "code",
   "execution_count": null,
   "id": "9fa0eca6-513e-4d12-a615-2c76e56a5899",
   "metadata": {},
   "outputs": [],
   "source": []
  },
  {
   "cell_type": "code",
   "execution_count": null,
   "id": "03b22c52-6857-4810-a204-5e2dc0dc63ef",
   "metadata": {},
   "outputs": [],
   "source": [
    "doc = 'YahooYahoooYahoooooooYahoooooYahoasdfl;akj;lYahoaYahaoo'\n",
    "regExp = 'Yahoo+'\n",
    "rs = re.findall(regExp,doc)\n",
    "print(rs)"
   ]
  },
  {
   "cell_type": "code",
   "execution_count": null,
   "id": "48b74fa9-80ae-4b3c-8278-e898db6b2ca5",
   "metadata": {},
   "outputs": [],
   "source": []
  },
  {
   "cell_type": "code",
   "execution_count": 11,
   "id": "011c99b7-29b4-481c-a2b9-fea6846f06fa",
   "metadata": {},
   "outputs": [
    {
     "name": "stdout",
     "output_type": "stream",
     "text": [
      "['Yahoo', 'Yahooo', 'Yaooooooo', 'Yahooooo', 'Yaoooo']\n"
     ]
    }
   ],
   "source": [
    "doc = 'YahooYahoooYaoooooooYahoooooYahoasdfl;akj;lYaooooaYahaoo'\n",
    "regExp = 'Yah?oo+'\n",
    "rs = re.findall(regExp,doc)\n",
    "print(rs)"
   ]
  },
  {
   "cell_type": "code",
   "execution_count": null,
   "id": "85b25261-f055-4801-bc4a-6bf5ef477ec4",
   "metadata": {},
   "outputs": [],
   "source": []
  },
  {
   "cell_type": "code",
   "execution_count": null,
   "id": "5bd77809-b2d9-4e73-8654-d9b3a524324e",
   "metadata": {},
   "outputs": [],
   "source": []
  },
  {
   "cell_type": "code",
   "execution_count": 12,
   "id": "edc2b3b3-4b28-4343-9f69-52ac0adb37e7",
   "metadata": {},
   "outputs": [
    {
     "name": "stdout",
     "output_type": "stream",
     "text": [
      "['35', '23', '56789']\n"
     ]
    }
   ],
   "source": [
    "doc = ('asdfj;35laieo2rkdjf;ali4ejr;akjdf23k4j;lajds;l'\n",
    "            'asdfjoqweitu  lad;ai@weuta    dg;lajoetiuaodkgjier'\n",
    "            'asdkfjqoitlskdnfoqwiekhas;ioew=adgoie'\n",
    "            'askdfl_asdkfei_asd567890jkfla****askeasfff'\n",
    "            '{{{{{asdfjowei@@##askdfoie}}}}}')\n",
    "regExp = '\\d{2,5}'\n",
    "rs = re.findall(regExp,doc)\n",
    "print(rs)\n"
   ]
  },
  {
   "cell_type": "code",
   "execution_count": 13,
   "id": "e025856d-88bb-4ad3-8a2a-1245bcc3a964",
   "metadata": {},
   "outputs": [
    {
     "data": {
      "text/plain": [
       "['a234122B', 'Ab']"
      ]
     },
     "execution_count": 13,
     "metadata": {},
     "output_type": "execute_result"
    }
   ],
   "source": [
    "p = re.compile('a\\d*b',re.IGNORECASE)\n",
    "p.findall('a234122B23456Ab')\n"
   ]
  },
  {
   "cell_type": "code",
   "execution_count": null,
   "id": "fc19c2c3-6451-4e87-9513-1a06ee66ba58",
   "metadata": {},
   "outputs": [],
   "source": []
  },
  {
   "cell_type": "code",
   "execution_count": 14,
   "id": "6f21aa6c-0186-4a14-a12d-0e489d1112e1",
   "metadata": {},
   "outputs": [
    {
     "name": "stdout",
     "output_type": "stream",
     "text": [
      "(0, 17) 0 17 17\n",
      "how are you today ... asdfjla;joeito;angl;a4o3\n"
     ]
    }
   ],
   "source": [
    "doc = '      \\t    \\t   \\t how are you today ... asdfjla;joeito;angl;a4o3'\n",
    "p = re.compile('\\s*')\n",
    "m = p.match(doc)\n",
    "print(m.span(),m.start(),m.end(),len(m.group()))\n",
    "print(doc[m.end():])"
   ]
  },
  {
   "cell_type": "code",
   "execution_count": null,
   "id": "e42d141c-ce48-425f-b8a2-802dc63d1a10",
   "metadata": {},
   "outputs": [],
   "source": []
  }
 ],
 "metadata": {
  "kernelspec": {
   "display_name": "pytorch_studies",
   "language": "python",
   "name": "pytorch_studies"
  },
  "language_info": {
   "codemirror_mode": {
    "name": "ipython",
    "version": 3
   },
   "file_extension": ".py",
   "mimetype": "text/x-python",
   "name": "python",
   "nbconvert_exporter": "python",
   "pygments_lexer": "ipython3",
   "version": "3.8.16"
  }
 },
 "nbformat": 4,
 "nbformat_minor": 5
}
