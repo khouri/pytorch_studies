{
 "cells": [
  {
   "cell_type": "markdown",
   "id": "270e1054-3045-4b55-bca4-1f237a221699",
   "metadata": {},
   "source": [
    "### Build the Neural Network"
   ]
  },
  {
   "cell_type": "markdown",
   "id": "0255f6da-9957-4f9c-a89e-62d1bde7a017",
   "metadata": {},
   "source": [
    "Neural networks comprise of layers/modules that perform operations on data. The torch.nn namespace provides all the building blocks you need to build your own neural network. Every module in PyTorch subclasses the nn.Module. A neural network is a module itself that consists of other modules (layers). This nested structure allows for building and managing complex architectures easily."
   ]
  },
  {
   "cell_type": "code",
   "execution_count": null,
   "id": "c987c818-55bd-4d32-8324-b25e0c8ad83e",
   "metadata": {},
   "outputs": [],
   "source": []
  },
  {
   "cell_type": "code",
   "execution_count": 1,
   "id": "afb90c37-b0d3-464e-b01d-d14d535afc85",
   "metadata": {},
   "outputs": [],
   "source": [
    "import os\n",
    "import torch\n",
    "from torch import nn\n",
    "from torch.utils.data import DataLoader\n",
    "from torchvision import datasets, transforms"
   ]
  },
  {
   "cell_type": "code",
   "execution_count": 2,
   "id": "e837c343-d7a9-4ccd-9408-5dfc75d3ad40",
   "metadata": {},
   "outputs": [
    {
     "name": "stdout",
     "output_type": "stream",
     "text": [
      "Using cpu device\n"
     ]
    }
   ],
   "source": [
    "device = (\n",
    "    \"cuda\"\n",
    "    if torch.cuda.is_available()\n",
    "    else \"mps\"\n",
    "    if torch.backends.mps.is_available()\n",
    "    else \"cpu\"\n",
    ")\n",
    "print(f\"Using {device} device\")"
   ]
  },
  {
   "cell_type": "code",
   "execution_count": null,
   "id": "880f1c73-cc3c-4609-a63d-239c7c5f6f09",
   "metadata": {},
   "outputs": [],
   "source": []
  },
  {
   "cell_type": "markdown",
   "id": "47e6e6f5-916b-4ba4-97ce-355b08b6a551",
   "metadata": {},
   "source": [
    "#### Define the Class"
   ]
  },
  {
   "cell_type": "markdown",
   "id": "5785d919-52aa-41df-b6ad-e47d59cd2aad",
   "metadata": {},
   "source": [
    "We define our neural network by subclassing nn.Module, and initialize the neural network layers in __init__. Every nn.Module subclass implements the operations on input data in the forward method."
   ]
  },
  {
   "cell_type": "code",
   "execution_count": 3,
   "id": "0aa413e4-0f97-4def-ae40-e12ecc560480",
   "metadata": {},
   "outputs": [],
   "source": [
    "class NeuralNetwork(nn.Module):\n",
    "    def __init__(self):\n",
    "        super().__init__()\n",
    "        self.flatten = nn.Flatten()\n",
    "        self.linear_relu_stack = nn.Sequential(\n",
    "            nn.Linear(28*28, 512),\n",
    "            nn.ReLU(),\n",
    "            nn.Linear(512, 512),\n",
    "            nn.ReLU(),\n",
    "            nn.Linear(512, 10),\n",
    "        )\n",
    "\n",
    "    def forward(self, x):\n",
    "        x = self.flatten(x)\n",
    "        logits = self.linear_relu_stack(x)\n",
    "        return logits"
   ]
  },
  {
   "cell_type": "code",
   "execution_count": null,
   "id": "d4134262-fcce-4332-ac11-85ee1b34abb0",
   "metadata": {},
   "outputs": [],
   "source": []
  },
  {
   "cell_type": "markdown",
   "id": "a3d2bdf6-335d-4749-a027-df6afacd6991",
   "metadata": {},
   "source": [
    "We create an instance of NeuralNetwork, and move it to the device, and print its structure."
   ]
  },
  {
   "cell_type": "code",
   "execution_count": 4,
   "id": "e4c56989-5dba-4ef9-b767-59b7749246aa",
   "metadata": {},
   "outputs": [
    {
     "name": "stdout",
     "output_type": "stream",
     "text": [
      "NeuralNetwork(\n",
      "  (flatten): Flatten(start_dim=1, end_dim=-1)\n",
      "  (linear_relu_stack): Sequential(\n",
      "    (0): Linear(in_features=784, out_features=512, bias=True)\n",
      "    (1): ReLU()\n",
      "    (2): Linear(in_features=512, out_features=512, bias=True)\n",
      "    (3): ReLU()\n",
      "    (4): Linear(in_features=512, out_features=10, bias=True)\n",
      "  )\n",
      ")\n"
     ]
    }
   ],
   "source": [
    "model = NeuralNetwork().to(device)\n",
    "print(model)"
   ]
  },
  {
   "cell_type": "markdown",
   "id": "7f36f1d3-0cbb-4e3c-8f13-05ab9ff66169",
   "metadata": {},
   "source": [
    "To use the model, we pass it the input data. This executes the model’s forward, along with some background operations. Do not call model.forward() directly!"
   ]
  },
  {
   "cell_type": "markdown",
   "id": "4911b1ea-07d1-4dfc-93fc-fee109cf4455",
   "metadata": {},
   "source": [
    "To use the model, we pass it the input data. This executes the model’s forward, along with some background operations. Do not call model.forward() directly!\n",
    "\n",
    "Calling the model on the input returns a 2-dimensional tensor with dim=0 corresponding to each output of 10 raw predicted values for each class, and dim=1 corresponding to the individual values of each output. We get the prediction probabilities by passing it through an instance of the nn.Softmax module."
   ]
  },
  {
   "cell_type": "code",
   "execution_count": null,
   "id": "7f3ead4a-aeed-48ec-a55d-3851dce89e91",
   "metadata": {},
   "outputs": [],
   "source": []
  },
  {
   "cell_type": "code",
   "execution_count": 5,
   "id": "871bca03-4848-4310-b2ca-4bd54250fa95",
   "metadata": {},
   "outputs": [
    {
     "name": "stdout",
     "output_type": "stream",
     "text": [
      "Predicted class: tensor([7])\n"
     ]
    }
   ],
   "source": [
    "X = torch.rand(1, 28, 28, device=device)\n",
    "logits = model(X)\n",
    "pred_probab = nn.Softmax(dim=1)(logits)\n",
    "y_pred = pred_probab.argmax(1)\n",
    "print(f\"Predicted class: {y_pred}\")"
   ]
  },
  {
   "cell_type": "code",
   "execution_count": null,
   "id": "0b92d47b-79ac-40b9-a182-f0782121c19d",
   "metadata": {},
   "outputs": [],
   "source": []
  },
  {
   "cell_type": "markdown",
   "id": "577c5e58-419d-42cf-a261-c0e544ac1980",
   "metadata": {},
   "source": [
    "### Model Layers"
   ]
  },
  {
   "cell_type": "markdown",
   "id": "7fea0666-7440-4c76-b798-d31a15e5727a",
   "metadata": {},
   "source": [
    "Let’s break down the layers in the FashionMNIST model. To illustrate it, we will take a sample minibatch of 3 images of size 28x28 and see what happens to it as we pass it through the network."
   ]
  },
  {
   "cell_type": "code",
   "execution_count": 6,
   "id": "b39b4a9c-1926-402b-88a3-736073bb714b",
   "metadata": {},
   "outputs": [
    {
     "name": "stdout",
     "output_type": "stream",
     "text": [
      "torch.Size([3, 28, 28])\n"
     ]
    }
   ],
   "source": [
    "input_image = torch.rand(3,28,28)\n",
    "print(input_image.size())"
   ]
  },
  {
   "cell_type": "code",
   "execution_count": null,
   "id": "504395b3-7c18-4b98-ad59-86125fff8393",
   "metadata": {},
   "outputs": [],
   "source": []
  },
  {
   "cell_type": "markdown",
   "id": "69ed869c-cd68-47db-97ff-fefef101e5b5",
   "metadata": {},
   "source": [
    "#### nn.Flatten"
   ]
  },
  {
   "cell_type": "markdown",
   "id": "3465037a-00c0-49a0-9ff6-d8e991119915",
   "metadata": {},
   "source": [
    "We initialize the nn.Flatten layer to convert each 2D 28x28 image into a contiguous array of 784 pixel values ( the minibatch dimension (at dim=0) is maintained)."
   ]
  },
  {
   "cell_type": "code",
   "execution_count": 9,
   "id": "691a724c-40a4-4171-b4ea-41b3490d1ced",
   "metadata": {},
   "outputs": [
    {
     "name": "stdout",
     "output_type": "stream",
     "text": [
      "torch.Size([3, 784])\n"
     ]
    }
   ],
   "source": [
    "flatten = nn.Flatten()\n",
    "flat_image = flatten(input_image)\n",
    "print(flat_image.size())"
   ]
  },
  {
   "cell_type": "code",
   "execution_count": null,
   "id": "80264369-72c2-4e5f-b8a2-638a0887441c",
   "metadata": {},
   "outputs": [],
   "source": []
  },
  {
   "cell_type": "markdown",
   "id": "6d9c2eef-cf76-4576-84ae-65e4ceb91d20",
   "metadata": {},
   "source": [
    "### nn.Linear"
   ]
  },
  {
   "cell_type": "markdown",
   "id": "d0f7f45d-5f1c-47ca-b314-044b088bd35a",
   "metadata": {},
   "source": [
    "The linear layer is a module that applies a linear transformation on the input using its stored weights and biases."
   ]
  },
  {
   "cell_type": "code",
   "execution_count": 10,
   "id": "e76e4e0b-2d12-4ca5-ae09-85189ea0497b",
   "metadata": {},
   "outputs": [
    {
     "name": "stdout",
     "output_type": "stream",
     "text": [
      "torch.Size([3, 20])\n"
     ]
    }
   ],
   "source": [
    "layer1 = nn.Linear(in_features=28*28, out_features=20)\n",
    "hidden1 = layer1(flat_image)\n",
    "print(hidden1.size())"
   ]
  },
  {
   "cell_type": "code",
   "execution_count": null,
   "id": "3b27b0d3-fb7d-4b80-b640-27add7b14010",
   "metadata": {},
   "outputs": [],
   "source": []
  },
  {
   "cell_type": "markdown",
   "id": "4c3e0c2c-4f60-496f-af0d-6e5adbb57ca3",
   "metadata": {},
   "source": [
    "### nn.ReLU\n"
   ]
  },
  {
   "cell_type": "markdown",
   "id": "a59bed82-9260-406c-83f5-014ab7a64af8",
   "metadata": {},
   "source": [
    "on-linear activations are what create the complex mappings between the model’s inputs and outputs. They are applied after linear transformations to introduce nonlinearity, helping neural networks learn a wide variety of phenomena.\n",
    "\n",
    "In this model, we use nn.ReLU between our linear layers, but there’s other activations to introduce non-linearity in your model."
   ]
  },
  {
   "cell_type": "code",
   "execution_count": null,
   "id": "91abaf4f-44ed-4111-b172-696b7726ae75",
   "metadata": {},
   "outputs": [],
   "source": []
  },
  {
   "cell_type": "code",
   "execution_count": 11,
   "id": "cdf8677a-3f58-429a-91af-f1c753969a17",
   "metadata": {},
   "outputs": [
    {
     "name": "stdout",
     "output_type": "stream",
     "text": [
      "Before ReLU: tensor([[-0.5898, -0.8686, -0.1694, -0.3046, -0.2240, -0.4629,  0.0428, -0.4233,\n",
      "          0.3852,  0.2648,  0.3733, -0.1582, -0.8433, -0.2489,  0.1394,  0.0355,\n",
      "         -0.1104,  0.9500, -0.0597,  0.1215],\n",
      "        [-0.5664, -0.6130, -0.0970, -0.3162, -0.1667, -0.5268,  0.5357, -0.1752,\n",
      "          0.4247, -0.4470,  0.3571, -0.4836, -0.6034, -0.1898,  0.1884,  0.4754,\n",
      "          0.0525,  0.7185,  0.2400, -0.0090],\n",
      "        [-0.1404, -0.4501, -0.6444, -0.0130, -0.0959, -0.3425,  0.2342, -0.1652,\n",
      "          0.1962,  0.0841,  0.1473, -0.1643, -0.7250, -0.5647,  0.2165,  0.3742,\n",
      "          0.0202,  0.8088,  0.1794,  0.3060]], grad_fn=<AddmmBackward0>)\n",
      "\n",
      "\n",
      "After ReLU: tensor([[0.0000, 0.0000, 0.0000, 0.0000, 0.0000, 0.0000, 0.0428, 0.0000, 0.3852,\n",
      "         0.2648, 0.3733, 0.0000, 0.0000, 0.0000, 0.1394, 0.0355, 0.0000, 0.9500,\n",
      "         0.0000, 0.1215],\n",
      "        [0.0000, 0.0000, 0.0000, 0.0000, 0.0000, 0.0000, 0.5357, 0.0000, 0.4247,\n",
      "         0.0000, 0.3571, 0.0000, 0.0000, 0.0000, 0.1884, 0.4754, 0.0525, 0.7185,\n",
      "         0.2400, 0.0000],\n",
      "        [0.0000, 0.0000, 0.0000, 0.0000, 0.0000, 0.0000, 0.2342, 0.0000, 0.1962,\n",
      "         0.0841, 0.1473, 0.0000, 0.0000, 0.0000, 0.2165, 0.3742, 0.0202, 0.8088,\n",
      "         0.1794, 0.3060]], grad_fn=<ReluBackward0>)\n"
     ]
    }
   ],
   "source": [
    "print(f\"Before ReLU: {hidden1}\\n\\n\")\n",
    "hidden1 = nn.ReLU()(hidden1)\n",
    "print(f\"After ReLU: {hidden1}\")"
   ]
  },
  {
   "cell_type": "code",
   "execution_count": null,
   "id": "12469e70-3db3-4a96-b5c2-2dcf9ebc80cd",
   "metadata": {},
   "outputs": [],
   "source": []
  },
  {
   "cell_type": "markdown",
   "id": "cb6f462d-7e6f-482d-b684-f6805c02e861",
   "metadata": {},
   "source": [
    "### Sequencial"
   ]
  },
  {
   "cell_type": "markdown",
   "id": "881a2ded-5d88-449c-9821-a49357a0ce38",
   "metadata": {},
   "source": [
    "(Container de layers cuja execução é sequencial)nn.Sequential is an ordered container of modules. The data is passed through all the modules in the same order as defined. You can use sequential containers to put together a quick network like seq_modules."
   ]
  },
  {
   "cell_type": "code",
   "execution_count": 13,
   "id": "1b3ff8a7-e634-4330-a3e1-7e2f29bbe33f",
   "metadata": {},
   "outputs": [
    {
     "data": {
      "text/plain": [
       "tensor([[ 0.1533, -0.1599, -0.2097,  0.0328,  0.1499, -0.1486, -0.2239,  0.0191,\n",
       "         -0.2090,  0.1896],\n",
       "        [ 0.0276, -0.2586, -0.1886,  0.0034,  0.1164, -0.1439, -0.1901,  0.0232,\n",
       "         -0.2168,  0.2775],\n",
       "        [ 0.1512, -0.1576, -0.1284,  0.0715,  0.1630, -0.2071, -0.2492, -0.0343,\n",
       "         -0.2931,  0.0989]], grad_fn=<AddmmBackward0>)"
      ]
     },
     "execution_count": 13,
     "metadata": {},
     "output_type": "execute_result"
    }
   ],
   "source": [
    "seq_modules = nn.Sequential(\n",
    "    flatten,\n",
    "    layer1,\n",
    "    nn.ReLU(),\n",
    "    nn.Linear(20, 10)\n",
    ")\n",
    "input_image = torch.rand(3,28,28)\n",
    "logits = seq_modules(input_image)\n",
    "logits"
   ]
  },
  {
   "cell_type": "code",
   "execution_count": null,
   "id": "03314baf-cd18-4707-85c3-a1e8b045995a",
   "metadata": {},
   "outputs": [],
   "source": []
  },
  {
   "cell_type": "code",
   "execution_count": null,
   "id": "e706b099-36e1-4dc6-9cc7-25a5022ddce5",
   "metadata": {},
   "outputs": [],
   "source": []
  },
  {
   "cell_type": "code",
   "execution_count": null,
   "id": "372e7f5b-b29d-43ea-909b-4d6fac1cc28e",
   "metadata": {},
   "outputs": [],
   "source": []
  },
  {
   "cell_type": "markdown",
   "id": "96d655f3-7df2-4557-8d39-6a9e6cf8b98e",
   "metadata": {},
   "source": [
    "### nn.Softmax"
   ]
  },
  {
   "cell_type": "markdown",
   "id": "8918c174-2245-4f1d-a55f-31b5bc117d5e",
   "metadata": {},
   "source": [
    "The last linear layer of the neural network returns logits - raw values in [-infty, infty] - which are passed to the nn.Softmax module. The logits are scaled to values [0, 1] representing the model’s predicted probabilities for each class. dim parameter indicates the dimension along which the values must sum to 1."
   ]
  },
  {
   "cell_type": "code",
   "execution_count": 14,
   "id": "b46d22de-9280-456d-a17f-8f27ec81343e",
   "metadata": {},
   "outputs": [],
   "source": [
    "softmax = nn.Softmax(dim=1)\n",
    "pred_probab = softmax(logits)"
   ]
  },
  {
   "cell_type": "code",
   "execution_count": null,
   "id": "a3214563-95fa-47de-9978-4c4afaff8bef",
   "metadata": {},
   "outputs": [],
   "source": []
  },
  {
   "cell_type": "code",
   "execution_count": null,
   "id": "54836dd1-21b2-4711-b5e4-4ecf68973260",
   "metadata": {},
   "outputs": [],
   "source": []
  },
  {
   "cell_type": "markdown",
   "id": "5bbfe01a-c738-4577-97cb-5ef37588819b",
   "metadata": {},
   "source": [
    "### Model Parameters"
   ]
  },
  {
   "cell_type": "markdown",
   "id": "67524044-ac07-4990-9ac4-432d860f0f87",
   "metadata": {},
   "source": [
    "Many layers inside a neural network are parameterized, i.e. have associated weights and biases that are optimized during training. Subclassing nn.Module automatically tracks all fields defined inside your model object, and makes all parameters accessible using your model’s parameters() or named_parameters() methods."
   ]
  },
  {
   "cell_type": "code",
   "execution_count": 15,
   "id": "020e9444-1c39-47cf-b0df-fd89c95da70f",
   "metadata": {},
   "outputs": [
    {
     "name": "stdout",
     "output_type": "stream",
     "text": [
      "Model structure: NeuralNetwork(\n",
      "  (flatten): Flatten(start_dim=1, end_dim=-1)\n",
      "  (linear_relu_stack): Sequential(\n",
      "    (0): Linear(in_features=784, out_features=512, bias=True)\n",
      "    (1): ReLU()\n",
      "    (2): Linear(in_features=512, out_features=512, bias=True)\n",
      "    (3): ReLU()\n",
      "    (4): Linear(in_features=512, out_features=10, bias=True)\n",
      "  )\n",
      ")\n",
      "\n",
      "\n",
      "Layer: linear_relu_stack.0.weight | Size: torch.Size([512, 784]) | Values : tensor([[-0.0225, -0.0096, -0.0148,  ...,  0.0256, -0.0212,  0.0279],\n",
      "        [-0.0037,  0.0020, -0.0324,  ..., -0.0257, -0.0204, -0.0146]],\n",
      "       grad_fn=<SliceBackward0>) \n",
      "\n",
      "Layer: linear_relu_stack.0.bias | Size: torch.Size([512]) | Values : tensor([0.0006, 0.0327], grad_fn=<SliceBackward0>) \n",
      "\n",
      "Layer: linear_relu_stack.2.weight | Size: torch.Size([512, 512]) | Values : tensor([[-0.0321, -0.0081,  0.0437,  ...,  0.0017, -0.0161, -0.0404],\n",
      "        [-0.0441,  0.0210, -0.0212,  ...,  0.0153, -0.0080,  0.0279]],\n",
      "       grad_fn=<SliceBackward0>) \n",
      "\n",
      "Layer: linear_relu_stack.2.bias | Size: torch.Size([512]) | Values : tensor([-0.0314, -0.0419], grad_fn=<SliceBackward0>) \n",
      "\n",
      "Layer: linear_relu_stack.4.weight | Size: torch.Size([10, 512]) | Values : tensor([[-0.0152, -0.0272, -0.0211,  ..., -0.0007, -0.0427,  0.0066],\n",
      "        [ 0.0326, -0.0208,  0.0366,  ...,  0.0417, -0.0430,  0.0100]],\n",
      "       grad_fn=<SliceBackward0>) \n",
      "\n",
      "Layer: linear_relu_stack.4.bias | Size: torch.Size([10]) | Values : tensor([-0.0265,  0.0157], grad_fn=<SliceBackward0>) \n",
      "\n"
     ]
    }
   ],
   "source": [
    "print(f\"Model structure: {model}\\n\\n\")\n",
    "\n",
    "for name, param in model.named_parameters():\n",
    "    print(f\"Layer: {name} | Size: {param.size()} | Values : {param[:2]} \\n\")"
   ]
  },
  {
   "cell_type": "code",
   "execution_count": null,
   "id": "bd52068d-61b3-4293-a2b3-6fdb87b8a0cf",
   "metadata": {},
   "outputs": [],
   "source": []
  },
  {
   "cell_type": "code",
   "execution_count": null,
   "id": "317841ef-cf37-48bf-a42c-3cab6c53b07c",
   "metadata": {},
   "outputs": [],
   "source": []
  },
  {
   "cell_type": "code",
   "execution_count": null,
   "id": "b5344f6d-f9f2-4e4d-a0c2-fac6cd9629cf",
   "metadata": {},
   "outputs": [],
   "source": []
  },
  {
   "cell_type": "code",
   "execution_count": null,
   "id": "812b10f0-156b-4a6e-91d5-e6081fa3874c",
   "metadata": {},
   "outputs": [],
   "source": []
  },
  {
   "cell_type": "code",
   "execution_count": null,
   "id": "bb66dad6-5547-496b-91d9-d2336f069605",
   "metadata": {},
   "outputs": [],
   "source": []
  },
  {
   "cell_type": "code",
   "execution_count": null,
   "id": "c70a32e3-9b0c-4c38-8f71-242de69e7a31",
   "metadata": {},
   "outputs": [],
   "source": []
  },
  {
   "cell_type": "code",
   "execution_count": null,
   "id": "af6ca5ce-1f33-4ee4-9e6c-c21c367eb07d",
   "metadata": {},
   "outputs": [],
   "source": []
  },
  {
   "cell_type": "code",
   "execution_count": null,
   "id": "698d93bd-2dd6-4bac-b78a-66025ca031d6",
   "metadata": {},
   "outputs": [],
   "source": []
  },
  {
   "cell_type": "code",
   "execution_count": null,
   "id": "d5d17b5b-bd70-45b3-a24d-ec0db2b5d366",
   "metadata": {},
   "outputs": [],
   "source": []
  },
  {
   "cell_type": "code",
   "execution_count": null,
   "id": "25aa6a1b-1fd6-4c7e-a564-ec77196a1f72",
   "metadata": {},
   "outputs": [],
   "source": []
  },
  {
   "cell_type": "code",
   "execution_count": null,
   "id": "360a4e25-43da-43f4-a95d-8c37cf476202",
   "metadata": {},
   "outputs": [],
   "source": []
  },
  {
   "cell_type": "code",
   "execution_count": null,
   "id": "3d3db7a1-784d-4152-93e0-8743d81d759b",
   "metadata": {},
   "outputs": [],
   "source": []
  }
 ],
 "metadata": {
  "kernelspec": {
   "display_name": "pytorch_studies",
   "language": "python",
   "name": "pytorch_studies"
  },
  "language_info": {
   "codemirror_mode": {
    "name": "ipython",
    "version": 3
   },
   "file_extension": ".py",
   "mimetype": "text/x-python",
   "name": "python",
   "nbconvert_exporter": "python",
   "pygments_lexer": "ipython3",
   "version": "3.8.16"
  }
 },
 "nbformat": 4,
 "nbformat_minor": 5
}
