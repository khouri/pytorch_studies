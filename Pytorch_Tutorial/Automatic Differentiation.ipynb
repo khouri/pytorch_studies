{
 "cells": [
  {
   "cell_type": "markdown",
   "id": "fec72c7e-5605-46db-b7c8-5e36582bf99b",
   "metadata": {},
   "source": [
    "### torch.autograd"
   ]
  },
  {
   "cell_type": "markdown",
   "id": "61cdb2ae-9638-4171-840f-8eb12c02356a",
   "metadata": {},
   "source": [
    "When training neural networks, the most frequently used algorithm is back propagation. In this algorithm, parameters (model weights) are adjusted according to the gradient of the loss function with respect to the given parameter.\n",
    "\n",
    "To compute those gradients, PyTorch has a built-in differentiation engine called torch.autograd. It supports automatic computation of gradient for any computational graph.\n",
    "\n",
    "Consider the simplest one-layer neural network, with input x, parameters w and b, and some loss function. It can be defined in PyTorch in the following manner:"
   ]
  },
  {
   "cell_type": "code",
   "execution_count": 1,
   "id": "b60975b8-d1d6-4597-866a-229946bbe15f",
   "metadata": {},
   "outputs": [],
   "source": [
    "import torch\n",
    "\n",
    "x = torch.ones(5)  # input tensor\n",
    "y = torch.zeros(3)  # expected output\n",
    "w = torch.randn(5, 3, requires_grad=True)\n",
    "b = torch.randn(3, requires_grad=True)\n",
    "z = torch.matmul(x, w)+b\n",
    "loss = torch.nn.functional.binary_cross_entropy_with_logits(z, y)"
   ]
  },
  {
   "cell_type": "markdown",
   "id": "86e98377-fa6d-480c-948b-cb9f29502f5b",
   "metadata": {},
   "source": [
    "\n",
    "A function that we apply to tensors to construct computational graph is in fact an object of class Function. This object knows how to compute the function in the forward direction, and also how to compute its derivative during the backward propagation step. A reference to the backward propagation function is stored in grad_fn property of a tensor. You can find more information of Function in the documentation."
   ]
  },
  {
   "cell_type": "code",
   "execution_count": 2,
   "id": "e12f746a-64a7-41da-ba8b-808f31e8fa39",
   "metadata": {},
   "outputs": [
    {
     "name": "stdout",
     "output_type": "stream",
     "text": [
      "Gradient function for z = <AddBackward0 object at 0x7f9080031910>\n",
      "Gradient function for loss = <BinaryCrossEntropyWithLogitsBackward0 object at 0x7f90800532e0>\n"
     ]
    }
   ],
   "source": [
    "print(f\"Gradient function for z = {z.grad_fn}\")\n",
    "print(f\"Gradient function for loss = {loss.grad_fn}\")"
   ]
  },
  {
   "cell_type": "code",
   "execution_count": null,
   "id": "d21ce82b-045d-41d2-8a73-845e04874fbb",
   "metadata": {},
   "outputs": [],
   "source": []
  },
  {
   "cell_type": "markdown",
   "id": "0250a682-117f-4750-857d-22a374c2d493",
   "metadata": {},
   "source": [
    "### Computing Gradients\n"
   ]
  },
  {
   "cell_type": "markdown",
   "id": "dfd28d05-b0b3-4fe9-b745-52e72929f66e",
   "metadata": {},
   "source": [
    "To optimize weights of parameters in the neural network, we need to compute the derivatives of our loss function with respect to parameters. To compute those derivatives, we call loss.backward(), and then retrieve the values from w.grad and b.grad:"
   ]
  },
  {
   "cell_type": "code",
   "execution_count": 3,
   "id": "4d11361a-8550-4e1d-8d4a-66f0662a7bab",
   "metadata": {},
   "outputs": [
    {
     "name": "stdout",
     "output_type": "stream",
     "text": [
      "tensor([[0.0481, 0.0078, 0.0018],\n",
      "        [0.0481, 0.0078, 0.0018],\n",
      "        [0.0481, 0.0078, 0.0018],\n",
      "        [0.0481, 0.0078, 0.0018],\n",
      "        [0.0481, 0.0078, 0.0018]])\n",
      "tensor([0.0481, 0.0078, 0.0018])\n"
     ]
    }
   ],
   "source": [
    "loss.backward()\n",
    "print(w.grad)\n",
    "print(b.grad)"
   ]
  },
  {
   "cell_type": "markdown",
   "id": "f1e3e26e-a561-48b5-a8dd-3c3f9049d60b",
   "metadata": {},
   "source": [
    "We can only obtain the grad properties for the leaf nodes of the computational graph, which have requires_grad property set to True. For all other nodes in our graph, gradients will not be available."
   ]
  },
  {
   "cell_type": "code",
   "execution_count": null,
   "id": "90d3fe65-0f84-42c6-a20a-f1268f4d9578",
   "metadata": {},
   "outputs": [],
   "source": []
  },
  {
   "cell_type": "code",
   "execution_count": null,
   "id": "0124ea71-7906-4996-bd62-959d145b160a",
   "metadata": {},
   "outputs": [],
   "source": []
  },
  {
   "cell_type": "markdown",
   "id": "fbdd9080-fa25-4f04-a613-7301388f3cab",
   "metadata": {},
   "source": [
    "### Disabling Gradient Tracking"
   ]
  },
  {
   "cell_type": "markdown",
   "id": "9dade635-0c0e-4f2c-9f06-0ac769d5aea1",
   "metadata": {},
   "source": [
    "By default, all tensors with requires_grad=True are tracking their computational history and support gradient computation. However, there are some cases when we do not need to do that, for example, when we have trained the model and just want to apply it to some input data, i.e. we only want to do forward computations through the network. We can stop tracking computations by surrounding our computation code with torch.no_grad() block:\n",
    "\n"
   ]
  },
  {
   "cell_type": "code",
   "execution_count": 4,
   "id": "e2afad22-f983-45aa-a696-6def1bf77f3c",
   "metadata": {},
   "outputs": [
    {
     "name": "stdout",
     "output_type": "stream",
     "text": [
      "True\n",
      "False\n"
     ]
    }
   ],
   "source": [
    "z = torch.matmul(x, w)+b\n",
    "print(z.requires_grad)\n",
    "\n",
    "with torch.no_grad():\n",
    "    z = torch.matmul(x, w)+b\n",
    "print(z.requires_grad)"
   ]
  },
  {
   "cell_type": "code",
   "execution_count": null,
   "id": "012aa901-9e03-483f-8175-956e52db0b75",
   "metadata": {},
   "outputs": [],
   "source": []
  },
  {
   "cell_type": "code",
   "execution_count": null,
   "id": "29a06e2a-b530-472d-8211-d0df1d19d523",
   "metadata": {},
   "outputs": [],
   "source": []
  },
  {
   "cell_type": "markdown",
   "id": "f7721eac-5df1-4585-beb3-776acc59e476",
   "metadata": {},
   "source": [
    "### More on Computational Graphs\n"
   ]
  },
  {
   "cell_type": "markdown",
   "id": "6e3d512f-7af3-4675-838a-c2985b74ce08",
   "metadata": {},
   "source": [
    "Conceptually, autograd keeps a record of data (tensors) and all executed operations (along with the resulting new tensors) in a directed acyclic graph (DAG) consisting of Function objects. In this DAG, leaves are the input tensors, roots are the output tensors. By tracing this graph from roots to leaves, you can automatically compute the gradients using the chain rule.\n",
    "\n",
    "In a forward pass, autograd does two things simultaneously:\n",
    "\n",
    "run the requested operation to compute a resulting tensor\n",
    "\n",
    "maintain the operation’s gradient function in the DAG.\n",
    "\n",
    "The backward pass kicks off when .backward() is called on the DAG root. autograd then:\n",
    "\n",
    "computes the gradients from each .grad_fn,\n",
    "\n",
    "accumulates them in the respective tensor’s .grad attribute\n",
    "\n",
    "using the chain rule, propagates all the way to the leaf tensors.\n"
   ]
  },
  {
   "cell_type": "code",
   "execution_count": null,
   "id": "9de58001-0075-41bd-b94f-5dab01bec3d8",
   "metadata": {},
   "outputs": [],
   "source": []
  },
  {
   "cell_type": "code",
   "execution_count": null,
   "id": "d36de6ad-2013-442a-83a5-7ac22bdc0926",
   "metadata": {},
   "outputs": [],
   "source": []
  },
  {
   "cell_type": "code",
   "execution_count": null,
   "id": "bbe41b06-19a8-44d5-92c0-6066d2f08ab5",
   "metadata": {},
   "outputs": [],
   "source": []
  },
  {
   "cell_type": "code",
   "execution_count": null,
   "id": "24eddd17-5009-41c7-abac-19b361b0c51a",
   "metadata": {},
   "outputs": [],
   "source": []
  },
  {
   "cell_type": "code",
   "execution_count": null,
   "id": "cc1c0b7b-cd9e-49d0-9439-afefb8f00856",
   "metadata": {},
   "outputs": [],
   "source": []
  },
  {
   "cell_type": "code",
   "execution_count": null,
   "id": "26f83815-f208-4738-8d9c-2ca410bc5ba1",
   "metadata": {},
   "outputs": [],
   "source": []
  },
  {
   "cell_type": "code",
   "execution_count": null,
   "id": "b9178fb0-0a24-4cb6-ac74-9dfbcccd5b5d",
   "metadata": {},
   "outputs": [],
   "source": []
  }
 ],
 "metadata": {
  "kernelspec": {
   "display_name": "pytorch_studies",
   "language": "python",
   "name": "pytorch_studies"
  },
  "language_info": {
   "codemirror_mode": {
    "name": "ipython",
    "version": 3
   },
   "file_extension": ".py",
   "mimetype": "text/x-python",
   "name": "python",
   "nbconvert_exporter": "python",
   "pygments_lexer": "ipython3",
   "version": "3.8.16"
  }
 },
 "nbformat": 4,
 "nbformat_minor": 5
}
