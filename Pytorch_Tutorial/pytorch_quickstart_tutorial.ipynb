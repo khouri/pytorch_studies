{
 "cells": [
  {
   "cell_type": "code",
   "execution_count": null,
   "id": "04cb1f23-f21a-4d33-90c4-75e5f14bb508",
   "metadata": {},
   "outputs": [],
   "source": []
  },
  {
   "cell_type": "code",
   "execution_count": null,
   "id": "c317c2c1-a805-44a4-af41-6b8a72da2a3c",
   "metadata": {},
   "outputs": [],
   "source": []
  },
  {
   "cell_type": "markdown",
   "id": "ee88bab2-5a36-4493-ab47-4728ffdd77fd",
   "metadata": {},
   "source": [
    "### import"
   ]
  },
  {
   "cell_type": "code",
   "execution_count": 1,
   "id": "37b5d2f4-322a-4d2d-a54c-dc08dc34367f",
   "metadata": {},
   "outputs": [],
   "source": [
    "import torch\n",
    "from torch import nn\n",
    "from torch.utils.data import DataLoader\n",
    "from torchvision import datasets\n",
    "from torchvision.transforms import ToTensor"
   ]
  },
  {
   "cell_type": "code",
   "execution_count": null,
   "id": "51a7fa60-2e29-43a4-ba9a-b5de80164e28",
   "metadata": {},
   "outputs": [],
   "source": []
  },
  {
   "cell_type": "code",
   "execution_count": null,
   "id": "24e0621b-e239-448f-a83a-958ea93a90b6",
   "metadata": {},
   "outputs": [],
   "source": []
  },
  {
   "cell_type": "markdown",
   "id": "252539c9-d285-4fb2-ac5a-d1eb80feb9b6",
   "metadata": {},
   "source": [
    "# Download the dataset"
   ]
  },
  {
   "cell_type": "markdown",
   "id": "3f6a1806-567a-4ac7-8874-d075c1bfaf3b",
   "metadata": {},
   "source": [
    "root is the path where the train/test data is stored,\n",
    "\n",
    "train specifies training or test dataset,\n",
    "\n",
    "download=True downloads the data from the internet if it’s not available at root.\n",
    "\n",
    "transform and target_transform specify the feature and label transformations"
   ]
  },
  {
   "cell_type": "code",
   "execution_count": 2,
   "id": "76e7b89c-2145-48ae-b4a0-dbac32f0ca77",
   "metadata": {},
   "outputs": [],
   "source": [
    "# Download training data from open datasets.\n",
    "training_data = datasets.FashionMNIST(\n",
    "    root=\"data\",\n",
    "    train=True,\n",
    "    download=True,\n",
    "    transform=ToTensor(),\n",
    ")\n",
    "\n",
    "# Download test data from open datasets.\n",
    "test_data = datasets.FashionMNIST(\n",
    "    root=\"data\",\n",
    "    train=False,\n",
    "    download=True,\n",
    "    transform=ToTensor(),\n",
    ")"
   ]
  },
  {
   "cell_type": "code",
   "execution_count": null,
   "id": "99b58a29-9a66-4c1d-967a-258b421fdcc4",
   "metadata": {},
   "outputs": [],
   "source": []
  },
  {
   "cell_type": "markdown",
   "id": "8da00095-2814-4aff-8f7f-c89c4ef14911",
   "metadata": {},
   "source": [
    "### Decorate the datsets to become dataloaders (iterators)"
   ]
  },
  {
   "cell_type": "code",
   "execution_count": 3,
   "id": "c35cf48d-9111-45cb-af91-1f942f94f0a3",
   "metadata": {},
   "outputs": [
    {
     "name": "stdout",
     "output_type": "stream",
     "text": [
      "Shape of X [N, C, H, W]: torch.Size([64, 1, 28, 28])\n",
      "Shape of y: torch.Size([64]) torch.int64\n"
     ]
    }
   ],
   "source": [
    "batch_size = 64\n",
    "\n",
    "# Create data loaders. # decorate the datasets with the dataloader\n",
    "train_dataloader = DataLoader(training_data, batch_size=batch_size)\n",
    "test_dataloader = DataLoader(test_data, batch_size=batch_size)\n",
    "\n",
    "for X, y in test_dataloader:\n",
    "    print(f\"Shape of X [N, C, H, W]: {X.shape}\")\n",
    "    print(f\"Shape of y: {y.shape} {y.dtype}\")\n",
    "    break"
   ]
  },
  {
   "cell_type": "code",
   "execution_count": null,
   "id": "38b00c1e-6ab8-40b4-9dbe-f689ca538d3c",
   "metadata": {},
   "outputs": [],
   "source": []
  },
  {
   "cell_type": "code",
   "execution_count": null,
   "id": "1dc2b1c3-f2a7-47e6-96d3-7e90f94ae369",
   "metadata": {},
   "outputs": [],
   "source": []
  },
  {
   "cell_type": "markdown",
   "id": "4b5386b8-7621-405b-a3ed-eb83725eaaf3",
   "metadata": {},
   "source": [
    "Para criar um modelo temos que herdar de nn.Module criar os layers no construtor da classe e definir a passagem de dados no metodo forward"
   ]
  },
  {
   "cell_type": "code",
   "execution_count": 4,
   "id": "e421cf6c-9ae4-49bc-8148-89105efef1b0",
   "metadata": {},
   "outputs": [
    {
     "name": "stdout",
     "output_type": "stream",
     "text": [
      "Using cpu device\n",
      "NeuralNetwork(\n",
      "  (flatten): Flatten(start_dim=1, end_dim=-1)\n",
      "  (linear_relu_stack): Sequential(\n",
      "    (0): Linear(in_features=784, out_features=512, bias=True)\n",
      "    (1): ReLU()\n",
      "    (2): Linear(in_features=512, out_features=512, bias=True)\n",
      "    (3): ReLU()\n",
      "    (4): Linear(in_features=512, out_features=10, bias=True)\n",
      "  )\n",
      ")\n"
     ]
    }
   ],
   "source": [
    "# Get cpu, gpu or mps device for training.\n",
    "device = (\n",
    "    \"cuda\"\n",
    "    if torch.cuda.is_available()\n",
    "    else \"mps\"\n",
    "    if torch.backends.mps.is_available()\n",
    "    else \"cpu\"\n",
    ")\n",
    "print(f\"Using {device} device\")\n",
    "\n",
    "# Define model\n",
    "class NeuralNetwork(nn.Module):\n",
    "    def __init__(self):\n",
    "        super().__init__()\n",
    "        self.flatten = nn.Flatten()\n",
    "        self.linear_relu_stack = nn.Sequential(\n",
    "            nn.Linear(28*28, 512),\n",
    "            nn.ReLU(),\n",
    "            nn.Linear(512, 512),\n",
    "            nn.ReLU(),\n",
    "            nn.Linear(512, 10)\n",
    "        )\n",
    "\n",
    "    def forward(self, x):\n",
    "        x = self.flatten(x)\n",
    "        logits = self.linear_relu_stack(x)\n",
    "        return logits\n",
    "\n",
    "model = NeuralNetwork().to(device)\n",
    "print(model)"
   ]
  },
  {
   "cell_type": "code",
   "execution_count": null,
   "id": "7b3f5599-781b-48ee-8f63-9028865ebdfa",
   "metadata": {},
   "outputs": [],
   "source": []
  },
  {
   "cell_type": "code",
   "execution_count": null,
   "id": "3879093b-1f88-4b7e-9e4f-51fed48a1fab",
   "metadata": {},
   "outputs": [],
   "source": []
  },
  {
   "cell_type": "markdown",
   "id": "6aada24d-1d63-4b68-9d07-e8c95feebcb9",
   "metadata": {},
   "source": [
    "Para treinar um modelo precisamos de uma função perda e um otimizador"
   ]
  },
  {
   "cell_type": "code",
   "execution_count": 6,
   "id": "61b010a9-14be-47d3-99df-de02828ad0ba",
   "metadata": {},
   "outputs": [],
   "source": [
    "loss_fn = nn.CrossEntropyLoss()\n",
    "optimizer = torch.optim.SGD(model.parameters(), \n",
    "                            lr=1e-3)"
   ]
  },
  {
   "cell_type": "code",
   "execution_count": null,
   "id": "17e15838-c9b4-4ca9-93a4-00df3af62727",
   "metadata": {},
   "outputs": [],
   "source": []
  },
  {
   "cell_type": "markdown",
   "id": "f4fe1338-9299-4a6a-8d2c-e700527f3bef",
   "metadata": {},
   "source": [
    "Função simples para treinar um modelo"
   ]
  },
  {
   "cell_type": "code",
   "execution_count": 7,
   "id": "3dd7fe2b-b6c6-4948-b0f1-8f68b2a68754",
   "metadata": {},
   "outputs": [],
   "source": [
    "def train(dataloader, model, loss_fn, optimizer):\n",
    "    size = len(dataloader.dataset)\n",
    "    model.train()\n",
    "    for batch, (X, y) in enumerate(dataloader):\n",
    "        X, y = X.to(device), y.to(device)\n",
    "\n",
    "        # Compute prediction error\n",
    "        pred = model(X)\n",
    "        loss = loss_fn(pred, y)\n",
    "\n",
    "        # Backpropagation\n",
    "        loss.backward()\n",
    "        optimizer.step()\n",
    "        optimizer.zero_grad()\n",
    "\n",
    "        if batch % 100 == 0:\n",
    "            loss, current = loss.item(), (batch + 1) * len(X)\n",
    "            print(f\"loss: {loss:>7f}  [{current:>5d}/{size:>5d}]\")"
   ]
  },
  {
   "cell_type": "code",
   "execution_count": null,
   "id": "d7a02611-6cf2-4d61-bd67-8582bacfcabf",
   "metadata": {},
   "outputs": [],
   "source": []
  },
  {
   "cell_type": "markdown",
   "id": "4f4c5af7-efd9-4ecd-9db0-f7decc972218",
   "metadata": {},
   "source": [
    "# Testar o modelo com outra função"
   ]
  },
  {
   "cell_type": "code",
   "execution_count": 8,
   "id": "9ba5bcf6-702a-48f4-84e2-7fb34e0abae3",
   "metadata": {},
   "outputs": [],
   "source": [
    "def test(dataloader, model, loss_fn):\n",
    "    size = len(dataloader.dataset)\n",
    "    num_batches = len(dataloader)\n",
    "    model.eval()\n",
    "    test_loss, correct = 0, 0\n",
    "    with torch.no_grad():\n",
    "        for X, y in dataloader:\n",
    "            X, y = X.to(device), y.to(device)\n",
    "            pred = model(X)\n",
    "            test_loss += loss_fn(pred, y).item()\n",
    "            correct += (pred.argmax(1) == y).type(torch.float).sum().item()\n",
    "    test_loss /= num_batches\n",
    "    correct /= size\n",
    "    print(f\"Test Error: \\n Accuracy: {(100*correct):>0.1f}%, Avg loss: {test_loss:>8f} \\n\")"
   ]
  },
  {
   "cell_type": "code",
   "execution_count": null,
   "id": "67b48aca-e994-4b18-b488-06e2b4add22d",
   "metadata": {},
   "outputs": [],
   "source": []
  },
  {
   "cell_type": "code",
   "execution_count": null,
   "id": "7972442a-d45a-4b76-8206-926c94655da6",
   "metadata": {},
   "outputs": [],
   "source": []
  },
  {
   "cell_type": "markdown",
   "id": "c9a25586-dcfb-4153-966c-45f48862dec0",
   "metadata": {},
   "source": [
    "# Treinamento do modelo"
   ]
  },
  {
   "cell_type": "code",
   "execution_count": 9,
   "id": "62f02579-43f2-48b2-b9c6-5102e9674b76",
   "metadata": {},
   "outputs": [
    {
     "name": "stdout",
     "output_type": "stream",
     "text": [
      "Epoch 1\n",
      "-------------------------------\n",
      "loss: 2.302142  [   64/60000]\n",
      "loss: 2.292470  [ 6464/60000]\n",
      "loss: 2.275558  [12864/60000]\n",
      "loss: 2.274817  [19264/60000]\n",
      "loss: 2.266022  [25664/60000]\n",
      "loss: 2.240759  [32064/60000]\n",
      "loss: 2.241474  [38464/60000]\n",
      "loss: 2.215126  [44864/60000]\n",
      "loss: 2.209844  [51264/60000]\n",
      "loss: 2.182524  [57664/60000]\n",
      "Test Error: \n",
      " Accuracy: 52.7%, Avg loss: 2.179468 \n",
      "\n",
      "Epoch 2\n",
      "-------------------------------\n",
      "loss: 2.187333  [   64/60000]\n",
      "loss: 2.181186  [ 6464/60000]\n",
      "loss: 2.132067  [12864/60000]\n",
      "loss: 2.147422  [19264/60000]\n",
      "loss: 2.110793  [25664/60000]\n",
      "loss: 2.051266  [32064/60000]\n",
      "loss: 2.075720  [38464/60000]\n",
      "loss: 2.009904  [44864/60000]\n",
      "loss: 2.013583  [51264/60000]\n",
      "loss: 1.942762  [57664/60000]\n",
      "Test Error: \n",
      " Accuracy: 60.1%, Avg loss: 1.945002 \n",
      "\n",
      "Epoch 3\n",
      "-------------------------------\n",
      "loss: 1.974425  [   64/60000]\n",
      "loss: 1.954319  [ 6464/60000]\n",
      "loss: 1.841704  [12864/60000]\n",
      "loss: 1.876616  [19264/60000]\n",
      "loss: 1.786112  [25664/60000]\n",
      "loss: 1.719339  [32064/60000]\n",
      "loss: 1.742572  [38464/60000]\n",
      "loss: 1.645159  [44864/60000]\n",
      "loss: 1.666911  [51264/60000]\n",
      "loss: 1.551404  [57664/60000]\n",
      "Test Error: \n",
      " Accuracy: 61.8%, Avg loss: 1.571680 \n",
      "\n",
      "Epoch 4\n",
      "-------------------------------\n",
      "loss: 1.634601  [   64/60000]\n",
      "loss: 1.604126  [ 6464/60000]\n",
      "loss: 1.446241  [12864/60000]\n",
      "loss: 1.514408  [19264/60000]\n",
      "loss: 1.401632  [25664/60000]\n",
      "loss: 1.379497  [32064/60000]\n",
      "loss: 1.395236  [38464/60000]\n",
      "loss: 1.320117  [44864/60000]\n",
      "loss: 1.359299  [51264/60000]\n",
      "loss: 1.243272  [57664/60000]\n",
      "Test Error: \n",
      " Accuracy: 63.5%, Avg loss: 1.274987 \n",
      "\n",
      "Epoch 5\n",
      "-------------------------------\n",
      "loss: 1.349621  [   64/60000]\n",
      "loss: 1.336245  [ 6464/60000]\n",
      "loss: 1.164408  [12864/60000]\n",
      "loss: 1.266285  [19264/60000]\n",
      "loss: 1.146665  [25664/60000]\n",
      "loss: 1.161127  [32064/60000]\n",
      "loss: 1.181150  [38464/60000]\n",
      "loss: 1.124605  [44864/60000]\n",
      "loss: 1.168638  [51264/60000]\n",
      "loss: 1.067312  [57664/60000]\n",
      "Test Error: \n",
      " Accuracy: 64.5%, Avg loss: 1.094866 \n",
      "\n",
      "Done!\n"
     ]
    }
   ],
   "source": [
    "epochs = 5\n",
    "for t in range(epochs):\n",
    "    print(f\"Epoch {t+1}\\n-------------------------------\")\n",
    "    train(train_dataloader, model, loss_fn, optimizer)\n",
    "    test(test_dataloader, model, loss_fn)\n",
    "print(\"Done!\")"
   ]
  },
  {
   "cell_type": "code",
   "execution_count": null,
   "id": "e42dca0d-334c-441e-9381-b6efc18cbc1e",
   "metadata": {},
   "outputs": [],
   "source": []
  },
  {
   "cell_type": "markdown",
   "id": "2a69ab76-a340-4575-b1ab-4d13077412ca",
   "metadata": {},
   "source": [
    "### save the model"
   ]
  },
  {
   "cell_type": "code",
   "execution_count": 11,
   "id": "bb1e9024-bcb3-4c32-a6d8-f402d7fb066f",
   "metadata": {},
   "outputs": [
    {
     "name": "stdout",
     "output_type": "stream",
     "text": [
      "Saved PyTorch Model State to model.pth\n"
     ]
    }
   ],
   "source": [
    "torch.save(model.state_dict(), \"model.pth\")\n",
    "print(\"Saved PyTorch Model State to model.pth\")"
   ]
  },
  {
   "cell_type": "code",
   "execution_count": null,
   "id": "3204debd-3371-4b54-b871-3fe91600bcc3",
   "metadata": {},
   "outputs": [],
   "source": []
  },
  {
   "cell_type": "code",
   "execution_count": null,
   "id": "9a04e08b-d86e-4b60-9b8d-5cead5dc5c8e",
   "metadata": {},
   "outputs": [],
   "source": []
  },
  {
   "cell_type": "markdown",
   "id": "dd0ea2a4-8341-4577-947c-7c3048cb29b1",
   "metadata": {},
   "source": [
    "### Load the model"
   ]
  },
  {
   "cell_type": "code",
   "execution_count": 12,
   "id": "2c04a77c-af8c-45f5-b11b-2aae175548e6",
   "metadata": {},
   "outputs": [
    {
     "data": {
      "text/plain": [
       "<All keys matched successfully>"
      ]
     },
     "execution_count": 12,
     "metadata": {},
     "output_type": "execute_result"
    }
   ],
   "source": [
    "model = NeuralNetwork().to(device)\n",
    "model.load_state_dict(torch.load(\"model.pth\"))"
   ]
  },
  {
   "cell_type": "code",
   "execution_count": null,
   "id": "91980191-3183-467e-92de-08e210fc83ee",
   "metadata": {},
   "outputs": [],
   "source": []
  },
  {
   "cell_type": "code",
   "execution_count": null,
   "id": "0e9d8161-87e6-4b33-a5f7-67c31cf5a44c",
   "metadata": {},
   "outputs": [],
   "source": []
  },
  {
   "cell_type": "markdown",
   "id": "5ee27378-f4c1-4b8b-bd9e-22e65a8763fc",
   "metadata": {},
   "source": [
    "### use the loaded model to predict"
   ]
  },
  {
   "cell_type": "code",
   "execution_count": 14,
   "id": "d511f732-64d9-471d-981f-86bfec5d2602",
   "metadata": {},
   "outputs": [
    {
     "name": "stdout",
     "output_type": "stream",
     "text": [
      "Predicted: \"Bag\", Actual: \"Ankle boot\"\n"
     ]
    }
   ],
   "source": [
    "classes = [\n",
    "    \"T-shirt/top\",\n",
    "    \"Trouser\",\n",
    "    \"Pullover\",\n",
    "    \"Dress\",\n",
    "    \"Coat\",\n",
    "    \"Sandal\",\n",
    "    \"Shirt\",\n",
    "    \"Sneaker\",\n",
    "    \"Bag\",\n",
    "    \"Ankle boot\",\n",
    "]\n",
    "\n",
    "model.eval()\n",
    "x, y = test_data[0][0], test_data[0][1]\n",
    "with torch.no_grad():\n",
    "    x = x.to(device)\n",
    "    pred = model(x)\n",
    "    predicted, actual = classes[pred[0].argmax(0)], classes[y]\n",
    "    print(f'Predicted: \"{predicted}\", Actual: \"{actual}\"')"
   ]
  },
  {
   "cell_type": "code",
   "execution_count": null,
   "id": "59e1f3be-9003-4357-920f-2ddb5a878fa4",
   "metadata": {},
   "outputs": [],
   "source": []
  }
 ],
 "metadata": {
  "kernelspec": {
   "display_name": "pytorch_studies",
   "language": "python",
   "name": "pytorch_studies"
  },
  "language_info": {
   "codemirror_mode": {
    "name": "ipython",
    "version": 3
   },
   "file_extension": ".py",
   "mimetype": "text/x-python",
   "name": "python",
   "nbconvert_exporter": "python",
   "pygments_lexer": "ipython3",
   "version": "3.8.16"
  }
 },
 "nbformat": 4,
 "nbformat_minor": 5
}
