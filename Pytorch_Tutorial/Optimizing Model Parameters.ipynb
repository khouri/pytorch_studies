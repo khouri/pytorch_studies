{
 "cells": [
  {
   "cell_type": "markdown",
   "id": "898143de-eea2-4612-9cb4-5c3a9bf2bf7c",
   "metadata": {},
   "source": [
    "### Optimizing Model Parameters"
   ]
  },
  {
   "cell_type": "markdown",
   "id": "d96461c0-add1-4b0d-83e1-0996b00e74f4",
   "metadata": {},
   "source": [
    "Now that we have a model and data it’s time to train, validate and test our model by optimizing its parameters on our data. Training a model is an iterative process; in each iteration the model makes a guess about the output, calculates the error in its guess (loss), collects the derivatives of the error with respect to its parameters (as we saw in the previous section), and optimizes these parameters using gradient descent. For a more detailed walkthrough of this process, check out this video on backpropagation from 3Blue1Brown.\n",
    "\n"
   ]
  },
  {
   "cell_type": "code",
   "execution_count": 1,
   "id": "3fecc505-e03d-499f-af06-9b4cd12c06df",
   "metadata": {},
   "outputs": [],
   "source": [
    "import torch\n",
    "from torch import nn\n",
    "from torch.utils.data import DataLoader\n",
    "from torchvision import datasets\n",
    "from torchvision.transforms import ToTensor\n",
    "\n",
    "training_data = datasets.FashionMNIST(\n",
    "    root=\"data\",\n",
    "    train=True,\n",
    "    download=True,\n",
    "    transform=ToTensor()\n",
    ")\n",
    "\n",
    "test_data = datasets.FashionMNIST(\n",
    "    root=\"data\",\n",
    "    train=False,\n",
    "    download=True,\n",
    "    transform=ToTensor()\n",
    ")\n",
    "\n",
    "train_dataloader = DataLoader(training_data, batch_size=64)\n",
    "test_dataloader = DataLoader(test_data, batch_size=64)\n",
    "\n",
    "class NeuralNetwork(nn.Module):\n",
    "    def __init__(self):\n",
    "        super().__init__()\n",
    "        self.flatten = nn.Flatten()\n",
    "        self.linear_relu_stack = nn.Sequential(\n",
    "            nn.Linear(28*28, 512),\n",
    "            nn.ReLU(),\n",
    "            nn.Linear(512, 512),\n",
    "            nn.ReLU(),\n",
    "            nn.Linear(512, 10),\n",
    "        )\n",
    "\n",
    "    def forward(self, x):\n",
    "        x = self.flatten(x)\n",
    "        logits = self.linear_relu_stack(x)\n",
    "        return logits\n",
    "\n",
    "model = NeuralNetwork()"
   ]
  },
  {
   "cell_type": "code",
   "execution_count": null,
   "id": "9eb0f533-9614-4cb9-a502-71a468efae6a",
   "metadata": {},
   "outputs": [],
   "source": []
  },
  {
   "cell_type": "code",
   "execution_count": null,
   "id": "443eb4e7-0477-417b-849b-6c9279dbb020",
   "metadata": {},
   "outputs": [],
   "source": []
  },
  {
   "cell_type": "code",
   "execution_count": null,
   "id": "15bee312-0bbb-47b2-926f-50340e3ce3a5",
   "metadata": {},
   "outputs": [],
   "source": []
  },
  {
   "cell_type": "markdown",
   "id": "6cfadca5-8ae4-4834-9710-19e0257cbdd5",
   "metadata": {},
   "source": [
    "### Hyperparameters"
   ]
  },
  {
   "cell_type": "markdown",
   "id": "97d9db59-cb68-48d6-a8cb-398630c11f93",
   "metadata": {},
   "source": [
    "Hyperparameters are adjustable parameters that let you control the model optimization process. Different hyperparameter values can impact model training and convergence rates (read more about hyperparameter tuning)\n",
    "\n",
    "We define the following hyperparameters for training:\n",
    "Number of Epochs - the number times to iterate over the dataset\n",
    "\n",
    "Batch Size - the number of data samples propagated through the network before the parameters are updated\n",
    "\n",
    "Learning Rate - how much to update models parameters at each batch/epoch. Smaller values yield slow learning speed, while large values may result in unpredictable behavior during training."
   ]
  },
  {
   "cell_type": "code",
   "execution_count": 2,
   "id": "d3e8fcfd-30fd-40b6-a0cd-ff758bd5ca39",
   "metadata": {},
   "outputs": [],
   "source": [
    "learning_rate = 1e-3\n",
    "batch_size = 64\n",
    "epochs = 5"
   ]
  },
  {
   "cell_type": "code",
   "execution_count": null,
   "id": "0e6f99aa-e84c-4cbd-8843-d7f936fb7d17",
   "metadata": {},
   "outputs": [],
   "source": []
  },
  {
   "cell_type": "code",
   "execution_count": null,
   "id": "05d009e5-5312-41a1-906d-ee19d047f037",
   "metadata": {},
   "outputs": [],
   "source": []
  },
  {
   "cell_type": "code",
   "execution_count": null,
   "id": "6ca7a5a4-3fd1-43d3-9bb7-079fdc073683",
   "metadata": {},
   "outputs": [],
   "source": []
  },
  {
   "cell_type": "markdown",
   "id": "d64b1e51-64ec-45b3-b7fd-cefe7204c2b7",
   "metadata": {},
   "source": [
    "### Optimization Loop"
   ]
  },
  {
   "cell_type": "markdown",
   "id": "c83faa0c-9472-4855-ae00-c21ac52121aa",
   "metadata": {},
   "source": [
    "Once we set our hyperparameters, we can then train and optimize our model with an optimization loop. Each iteration of the optimization loop is called an epoch.\n",
    "\n",
    "Each epoch consists of two main parts:\n",
    "The Train Loop - iterate over the training dataset and try to converge to optimal parameters.\n",
    "\n",
    "The Validation/Test Loop - iterate over the test dataset to check if model performance is improving.\n",
    "\n",
    "Let’s briefly familiarize ourselves with some of the concepts used in the training loop. Jump ahead to see the Full Implementation of the optimization loop.\n",
    "\n"
   ]
  },
  {
   "cell_type": "code",
   "execution_count": null,
   "id": "c44f69bc-71c7-4ae1-a59e-0e92eb2d8334",
   "metadata": {},
   "outputs": [],
   "source": []
  },
  {
   "cell_type": "code",
   "execution_count": null,
   "id": "2673dbc0-5998-4f3a-9a69-4282b209a75b",
   "metadata": {},
   "outputs": [],
   "source": []
  },
  {
   "cell_type": "markdown",
   "id": "e42eba96-ffd9-45bc-b1da-af7810d5f5a9",
   "metadata": {},
   "source": [
    "### Loss Function\n"
   ]
  },
  {
   "cell_type": "markdown",
   "id": "9e7c6c1b-a6a7-467c-afcc-ddd338cb9f09",
   "metadata": {},
   "source": [
    "When presented with some training data, our untrained network is likely not to give the correct answer. Loss function measures the degree of dissimilarity of obtained result to the target value, and it is the loss function that we want to minimize during training. To calculate the loss we make a prediction using the inputs of our given data sample and compare it against the true data label value.\n",
    "\n",
    "Common loss functions include nn.MSELoss (Mean Square Error) for regression tasks, and nn.NLLLoss (Negative Log Likelihood) for classification. nn.CrossEntropyLoss combines nn.LogSoftmax and nn.NLLLoss.\n",
    "\n",
    "We pass our model’s output logits to nn.CrossEntropyLoss, which will normalize the logits and compute the prediction error."
   ]
  },
  {
   "cell_type": "code",
   "execution_count": 3,
   "id": "16396377-0b5d-47d6-81b4-16a8f446b281",
   "metadata": {},
   "outputs": [],
   "source": [
    "# Initialize the loss function\n",
    "loss_fn = nn.CrossEntropyLoss()"
   ]
  },
  {
   "cell_type": "code",
   "execution_count": null,
   "id": "2a86c8d2-3b21-4195-b241-7317bbca6641",
   "metadata": {},
   "outputs": [],
   "source": []
  },
  {
   "cell_type": "code",
   "execution_count": null,
   "id": "3c533edd-bc88-4bb2-98f9-b8335ea530ec",
   "metadata": {},
   "outputs": [],
   "source": []
  },
  {
   "cell_type": "markdown",
   "id": "4eaae509-7328-41ff-afbb-24355f8e446e",
   "metadata": {},
   "source": [
    "### Optimizer"
   ]
  },
  {
   "cell_type": "markdown",
   "id": "9403b0bd-87ba-4433-ae3d-8165ad79cbd6",
   "metadata": {},
   "source": [
    "Optimization is the process of adjusting model parameters to reduce model error in each training step. Optimization algorithms define how this process is performed (in this example we use Stochastic Gradient Descent). All optimization logic is encapsulated in the optimizer object. Here, we use the SGD optimizer; additionally, there are many different optimizers available in PyTorch such as ADAM and RMSProp, that work better for different kinds of models and data.\n",
    "\n",
    "We initialize the optimizer by registering the model’s parameters that need to be trained, and passing in the learning rate hyperparameter."
   ]
  },
  {
   "cell_type": "code",
   "execution_count": 4,
   "id": "2e53f5a2-34a6-48fc-be6c-45363808f78f",
   "metadata": {},
   "outputs": [],
   "source": [
    "optimizer = torch.optim.SGD(model.parameters(), lr=learning_rate)"
   ]
  },
  {
   "cell_type": "markdown",
   "id": "0faf4419-1d25-4208-8690-fce658ffb7c9",
   "metadata": {},
   "source": [
    "Call optimizer.zero_grad() to reset the gradients of model parameters. Gradients by default add up; to prevent double-counting, we explicitly zero them at each iteration.\n",
    "\n",
    "Backpropagate the prediction loss with a call to loss.backward(). PyTorch deposits the gradients of the loss w.r.t. each parameter.\n",
    "\n",
    "Once we have our gradients, we call optimizer.step() to adjust the parameters by the gradients collected in the backward pass."
   ]
  },
  {
   "cell_type": "code",
   "execution_count": null,
   "id": "f03dc951-de00-4c0b-81b2-c4ee1c7517c4",
   "metadata": {},
   "outputs": [],
   "source": []
  },
  {
   "cell_type": "code",
   "execution_count": null,
   "id": "264b904b-37c1-4c1a-8aea-71e2dd234ab3",
   "metadata": {},
   "outputs": [],
   "source": []
  },
  {
   "cell_type": "code",
   "execution_count": null,
   "id": "64e1d067-5323-42f1-9202-0a311619c576",
   "metadata": {},
   "outputs": [],
   "source": []
  },
  {
   "cell_type": "markdown",
   "id": "fa70f3b3-beab-46b8-a8e9-7a321744f7f7",
   "metadata": {},
   "source": [
    "### Full Implementation"
   ]
  },
  {
   "cell_type": "markdown",
   "id": "7732e7bf-9ee3-4c68-9bb8-7b68298a63b6",
   "metadata": {},
   "source": [
    "We define train_loop that loops over our optimization code, and test_loop that evaluates the model’s performance against our test data.\n",
    "\n"
   ]
  },
  {
   "cell_type": "code",
   "execution_count": 5,
   "id": "1b1d2e84-930b-4aa1-93b3-6be3458874d9",
   "metadata": {},
   "outputs": [],
   "source": [
    "def train_loop(dataloader, model, loss_fn, optimizer):\n",
    "    size = len(dataloader.dataset)\n",
    "    # Set the model to training mode - important for batch normalization and dropout layers\n",
    "    # Unnecessary in this situation but added for best practices\n",
    "    model.train()\n",
    "    for batch, (X, y) in enumerate(dataloader):\n",
    "        # Compute prediction and loss\n",
    "        pred = model(X)\n",
    "        loss = loss_fn(pred, y)\n",
    "\n",
    "        # Backpropagation\n",
    "        loss.backward()\n",
    "        optimizer.step()\n",
    "        optimizer.zero_grad()\n",
    "\n",
    "        if batch % 100 == 0:\n",
    "            loss, current = loss.item(), batch * batch_size + len(X)\n",
    "            print(f\"loss: {loss:>7f}  [{current:>5d}/{size:>5d}]\")\n",
    "\n",
    "\n",
    "def test_loop(dataloader, model, loss_fn):\n",
    "    # Set the model to evaluation mode - important for batch normalization and dropout layers\n",
    "    # Unnecessary in this situation but added for best practices\n",
    "    model.eval()\n",
    "    size = len(dataloader.dataset)\n",
    "    num_batches = len(dataloader)\n",
    "    test_loss, correct = 0, 0\n",
    "\n",
    "    # Evaluating the model with torch.no_grad() ensures that no gradients are computed during test mode\n",
    "    # also serves to reduce unnecessary gradient computations and memory usage for tensors with requires_grad=True\n",
    "    with torch.no_grad():\n",
    "        for X, y in dataloader:\n",
    "            pred = model(X)\n",
    "            test_loss += loss_fn(pred, y).item()\n",
    "            correct += (pred.argmax(1) == y).type(torch.float).sum().item()\n",
    "\n",
    "    test_loss /= num_batches\n",
    "    correct /= size\n",
    "    print(f\"Test Error: \\n Accuracy: {(100*correct):>0.1f}%, Avg loss: {test_loss:>8f} \\n\")"
   ]
  },
  {
   "cell_type": "code",
   "execution_count": null,
   "id": "e315917a-0865-48eb-a2e2-68893a99feb3",
   "metadata": {},
   "outputs": [],
   "source": []
  },
  {
   "cell_type": "markdown",
   "id": "a604195c-011a-4852-b781-9d73ae21e8d2",
   "metadata": {},
   "source": [
    "We initialize the loss function and optimizer, and pass it to train_loop and test_loop. Feel free to increase the number of epochs to track the model’s improving performance."
   ]
  },
  {
   "cell_type": "code",
   "execution_count": 6,
   "id": "9e14cdd5-78b9-4139-8188-59f469846f90",
   "metadata": {},
   "outputs": [
    {
     "name": "stdout",
     "output_type": "stream",
     "text": [
      "Epoch 1\n",
      "-------------------------------\n",
      "loss: 2.294030  [   64/60000]\n",
      "loss: 2.285057  [ 6464/60000]\n",
      "loss: 2.267742  [12864/60000]\n",
      "loss: 2.275316  [19264/60000]\n",
      "loss: 2.247536  [25664/60000]\n",
      "loss: 2.215411  [32064/60000]\n",
      "loss: 2.226495  [38464/60000]\n",
      "loss: 2.186789  [44864/60000]\n",
      "loss: 2.182479  [51264/60000]\n",
      "loss: 2.162261  [57664/60000]\n",
      "Test Error: \n",
      " Accuracy: 43.5%, Avg loss: 2.152329 \n",
      "\n",
      "Epoch 2\n",
      "-------------------------------\n",
      "loss: 2.151350  [   64/60000]\n",
      "loss: 2.147670  [ 6464/60000]\n",
      "loss: 2.086946  [12864/60000]\n",
      "loss: 2.122794  [19264/60000]\n",
      "loss: 2.058691  [25664/60000]\n",
      "loss: 1.991151  [32064/60000]\n",
      "loss: 2.027186  [38464/60000]\n",
      "loss: 1.937563  [44864/60000]\n",
      "loss: 1.947002  [51264/60000]\n",
      "loss: 1.882728  [57664/60000]\n",
      "Test Error: \n",
      " Accuracy: 52.3%, Avg loss: 1.881124 \n",
      "\n",
      "Epoch 3\n",
      "-------------------------------\n",
      "loss: 1.901733  [   64/60000]\n",
      "loss: 1.879071  [ 6464/60000]\n",
      "loss: 1.755934  [12864/60000]\n",
      "loss: 1.822239  [19264/60000]\n",
      "loss: 1.696296  [25664/60000]\n",
      "loss: 1.641911  [32064/60000]\n",
      "loss: 1.670914  [38464/60000]\n",
      "loss: 1.562433  [44864/60000]\n",
      "loss: 1.597929  [51264/60000]\n",
      "loss: 1.496083  [57664/60000]\n",
      "Test Error: \n",
      " Accuracy: 62.6%, Avg loss: 1.517857 \n",
      "\n",
      "Epoch 4\n",
      "-------------------------------\n",
      "loss: 1.576502  [   64/60000]\n",
      "loss: 1.551080  [ 6464/60000]\n",
      "loss: 1.392047  [12864/60000]\n",
      "loss: 1.481959  [19264/60000]\n",
      "loss: 1.357264  [25664/60000]\n",
      "loss: 1.347265  [32064/60000]\n",
      "loss: 1.361745  [38464/60000]\n",
      "loss: 1.281157  [44864/60000]\n",
      "loss: 1.329721  [51264/60000]\n",
      "loss: 1.228538  [57664/60000]\n",
      "Test Error: \n",
      " Accuracy: 63.5%, Avg loss: 1.257981 \n",
      "\n",
      "Epoch 5\n",
      "-------------------------------\n",
      "loss: 1.332466  [   64/60000]\n",
      "loss: 1.322396  [ 6464/60000]\n",
      "loss: 1.146458  [12864/60000]\n",
      "loss: 1.262624  [19264/60000]\n",
      "loss: 1.135780  [25664/60000]\n",
      "loss: 1.154550  [32064/60000]\n",
      "loss: 1.173177  [38464/60000]\n",
      "loss: 1.105484  [44864/60000]\n",
      "loss: 1.159053  [51264/60000]\n",
      "loss: 1.073927  [57664/60000]\n",
      "Test Error: \n",
      " Accuracy: 64.5%, Avg loss: 1.095582 \n",
      "\n",
      "Epoch 6\n",
      "-------------------------------\n",
      "loss: 1.165423  [   64/60000]\n",
      "loss: 1.176728  [ 6464/60000]\n",
      "loss: 0.984150  [12864/60000]\n",
      "loss: 1.126242  [19264/60000]\n",
      "loss: 0.998299  [25664/60000]\n",
      "loss: 1.023078  [32064/60000]\n",
      "loss: 1.057276  [38464/60000]\n",
      "loss: 0.991804  [44864/60000]\n",
      "loss: 1.044825  [51264/60000]\n",
      "loss: 0.977391  [57664/60000]\n",
      "Test Error: \n",
      " Accuracy: 65.8%, Avg loss: 0.989864 \n",
      "\n",
      "Epoch 7\n",
      "-------------------------------\n",
      "loss: 1.046878  [   64/60000]\n",
      "loss: 1.081421  [ 6464/60000]\n",
      "loss: 0.871814  [12864/60000]\n",
      "loss: 1.035268  [19264/60000]\n",
      "loss: 0.911376  [25664/60000]\n",
      "loss: 0.929199  [32064/60000]\n",
      "loss: 0.981631  [38464/60000]\n",
      "loss: 0.916311  [44864/60000]\n",
      "loss: 0.964302  [51264/60000]\n",
      "loss: 0.912112  [57664/60000]\n",
      "Test Error: \n",
      " Accuracy: 67.1%, Avg loss: 0.917288 \n",
      "\n",
      "Epoch 8\n",
      "-------------------------------\n",
      "loss: 0.958758  [   64/60000]\n",
      "loss: 1.015049  [ 6464/60000]\n",
      "loss: 0.790445  [12864/60000]\n",
      "loss: 0.970693  [19264/60000]\n",
      "loss: 0.853082  [25664/60000]\n",
      "loss: 0.859923  [32064/60000]\n",
      "loss: 0.928296  [38464/60000]\n",
      "loss: 0.864783  [44864/60000]\n",
      "loss: 0.905752  [51264/60000]\n",
      "loss: 0.864480  [57664/60000]\n",
      "Test Error: \n",
      " Accuracy: 68.0%, Avg loss: 0.864785 \n",
      "\n",
      "Epoch 9\n",
      "-------------------------------\n",
      "loss: 0.891034  [   64/60000]\n",
      "loss: 0.965212  [ 6464/60000]\n",
      "loss: 0.729064  [12864/60000]\n",
      "loss: 0.922492  [19264/60000]\n",
      "loss: 0.811236  [25664/60000]\n",
      "loss: 0.807825  [32064/60000]\n",
      "loss: 0.888116  [38464/60000]\n",
      "loss: 0.828452  [44864/60000]\n",
      "loss: 0.861646  [51264/60000]\n",
      "loss: 0.827630  [57664/60000]\n",
      "Test Error: \n",
      " Accuracy: 69.3%, Avg loss: 0.824957 \n",
      "\n",
      "Epoch 10\n",
      "-------------------------------\n",
      "loss: 0.837126  [   64/60000]\n",
      "loss: 0.925174  [ 6464/60000]\n",
      "loss: 0.681154  [12864/60000]\n",
      "loss: 0.885147  [19264/60000]\n",
      "loss: 0.779316  [25664/60000]\n",
      "loss: 0.767913  [32064/60000]\n",
      "loss: 0.855774  [38464/60000]\n",
      "loss: 0.801484  [44864/60000]\n",
      "loss: 0.827442  [51264/60000]\n",
      "loss: 0.797871  [57664/60000]\n",
      "Test Error: \n",
      " Accuracy: 70.7%, Avg loss: 0.793313 \n",
      "\n",
      "Done!\n"
     ]
    }
   ],
   "source": [
    "loss_fn = nn.CrossEntropyLoss()\n",
    "optimizer = torch.optim.SGD(model.parameters(), lr=learning_rate)\n",
    "\n",
    "epochs = 10\n",
    "for t in range(epochs):\n",
    "    print(f\"Epoch {t+1}\\n-------------------------------\")\n",
    "    train_loop(train_dataloader, model, loss_fn, optimizer)\n",
    "    test_loop(test_dataloader, model, loss_fn)\n",
    "print(\"Done!\")"
   ]
  },
  {
   "cell_type": "code",
   "execution_count": null,
   "id": "c983d3e4-7b6d-42af-82c3-c968188e82e6",
   "metadata": {},
   "outputs": [],
   "source": []
  },
  {
   "cell_type": "code",
   "execution_count": null,
   "id": "80c38bbe-382c-432f-9934-ad578e866ec7",
   "metadata": {},
   "outputs": [],
   "source": []
  },
  {
   "cell_type": "code",
   "execution_count": null,
   "id": "4939bca5-da3b-4657-b685-78ea179bacf3",
   "metadata": {},
   "outputs": [],
   "source": []
  },
  {
   "cell_type": "code",
   "execution_count": null,
   "id": "f230f80b-21e8-4d54-ab7b-f6623186a203",
   "metadata": {},
   "outputs": [],
   "source": []
  },
  {
   "cell_type": "code",
   "execution_count": null,
   "id": "58d54a0f-7b6f-4c0f-af0e-acf573efe591",
   "metadata": {},
   "outputs": [],
   "source": []
  },
  {
   "cell_type": "code",
   "execution_count": null,
   "id": "c1ee41c7-1023-4f48-8632-bf0421557dd2",
   "metadata": {},
   "outputs": [],
   "source": []
  },
  {
   "cell_type": "code",
   "execution_count": null,
   "id": "d2cd85d0-758f-4f7b-aec1-1b0e0ed5fb90",
   "metadata": {},
   "outputs": [],
   "source": []
  },
  {
   "cell_type": "code",
   "execution_count": null,
   "id": "105d6b25-82ac-4356-9b68-05be84b0e097",
   "metadata": {},
   "outputs": [],
   "source": []
  },
  {
   "cell_type": "code",
   "execution_count": null,
   "id": "3818ea6c-284d-483d-bcb2-6c909fa96ee1",
   "metadata": {},
   "outputs": [],
   "source": []
  },
  {
   "cell_type": "code",
   "execution_count": null,
   "id": "d92def08-2ef8-4708-96ab-09112d0ae983",
   "metadata": {},
   "outputs": [],
   "source": []
  },
  {
   "cell_type": "code",
   "execution_count": null,
   "id": "701e8400-2736-47ce-b5c8-6c7f63d9bc66",
   "metadata": {},
   "outputs": [],
   "source": []
  },
  {
   "cell_type": "code",
   "execution_count": null,
   "id": "1c708467-fc2e-4f40-acbe-a41fd1a864f7",
   "metadata": {},
   "outputs": [],
   "source": []
  }
 ],
 "metadata": {
  "kernelspec": {
   "display_name": "pytorch_studies",
   "language": "python",
   "name": "pytorch_studies"
  },
  "language_info": {
   "codemirror_mode": {
    "name": "ipython",
    "version": 3
   },
   "file_extension": ".py",
   "mimetype": "text/x-python",
   "name": "python",
   "nbconvert_exporter": "python",
   "pygments_lexer": "ipython3",
   "version": "3.8.16"
  }
 },
 "nbformat": 4,
 "nbformat_minor": 5
}
